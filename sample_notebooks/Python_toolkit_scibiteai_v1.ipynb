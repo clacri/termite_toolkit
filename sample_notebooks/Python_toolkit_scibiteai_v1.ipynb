{
 "cells": [
  {
   "cell_type": "markdown",
   "metadata": {},
   "source": [
    "# Python TERMite toolkit - ScibiteAI\n",
    "This notebook walks you through how to make calls to a ScibiteAI API, using the functions from the toolkit."
   ]
  },
  {
   "cell_type": "markdown",
   "metadata": {},
   "source": [
    "Import the required sublibrary."
   ]
  },
  {
   "cell_type": "code",
   "execution_count": null,
   "metadata": {},
   "outputs": [],
   "source": [
    "from termite_toolkit import scibiteai"
   ]
  },
  {
   "cell_type": "markdown",
   "metadata": {},
   "source": [
    "Set Scibite AI URL address"
   ]
  },
  {
   "cell_type": "code",
   "execution_count": null,
   "metadata": {},
   "outputs": [],
   "source": [
    "scibite_ai_addr='https://scibiteai-homepage.scibite.io'\n",
    "aiclient = scibiteai.SciBiteAIClient()\n",
    "aiclient.set_scibite_ai_credentials(scibite_ai_addr)"
   ]
  },
  {
   "cell_type": "markdown",
   "metadata": {},
   "source": [
    "## List model tipes\n",
    "\n",
    "Executes a get request to list the broad categories of models supported by the SciBite AI platform."
   ]
  },
  {
   "cell_type": "code",
   "execution_count": null,
   "metadata": {},
   "outputs": [],
   "source": [
    "aiclient.list_model_types()"
   ]
  },
  {
   "cell_type": "markdown",
   "metadata": {},
   "source": [
    "## List models of a given type\n",
    "\n",
    "Executes a get request to list models of a specific type"
   ]
  },
  {
   "cell_type": "code",
   "execution_count": null,
   "metadata": {},
   "outputs": [],
   "source": [
    "aiclient.list_models('ner')"
   ]
  },
  {
   "cell_type": "markdown",
   "metadata": {},
   "source": [
    "## Load models\n",
    "\n",
    "Performs a post request to load a specific model of a specific type. If the model isn't already loaded you should get a message with\n",
    "\n",
    "`'status': 'X model successfully loaded'`\n",
    "\n",
    "If the model was loaded previously you should get an error\n",
    "\n",
    "`{'error': 'Model already loaded'}`"
   ]
  },
  {
   "cell_type": "code",
   "execution_count": null,
   "metadata": {},
   "outputs": [],
   "source": [
    "aiclient.load_model('ner', 'food')"
   ]
  },
  {
   "cell_type": "markdown",
   "metadata": {},
   "source": [
    "## Unload models\n",
    "\n",
    "Performs a post request to unload a specific model of a specific type. If the model was loaded you should get a message with\n",
    "\n",
    "`'status': 'biobert-squad-bioasq model successfully unloaded. `\n",
    "\n",
    "If the model wasn't loaded you should get an error\n",
    "\n",
    "`{'error': 'Model is not loaded'}`"
   ]
  },
  {
   "cell_type": "code",
   "execution_count": null,
   "metadata": {},
   "outputs": [],
   "source": [
    "aiclient.unload_model('qa', 'biobert-squad-bioasq')"
   ]
  },
  {
   "cell_type": "markdown",
   "metadata": {},
   "source": [
    "## Relationship extraction"
   ]
  },
  {
   "cell_type": "markdown",
   "metadata": {},
   "source": [
    "Pass a sentence within which you would like to identify a relationship using a specific model.\n"
   ]
  },
  {
   "cell_type": "code",
   "execution_count": null,
   "metadata": {},
   "outputs": [],
   "source": [
    "sent = \"During neuroinflammation, interleukin   (@GENE$ and @INDICATION$ (@INDICATION$ could increase the expression of   @GENE$ mRNA and activate the activity of ADP-ribosyl cyclase, while @GENE$   knockdown reduced the production of proinflammatory cytokines and chemokines\"\n",
    "aiclient.relex_from_sent('PPI-1400', sent)"
   ]
  },
  {
   "cell_type": "markdown",
   "metadata": {},
   "source": [
    "## Relationship extraction from file\n",
    "Pass a file containing several sentences to indentify the relevant relationships using a specific model. The output is a _task_id_. To retrieve results you should use the .task_results ( _task_id_ ) method."
   ]
  },
  {
   "cell_type": "code",
   "execution_count": null,
   "metadata": {
    "scrolled": true
   },
   "outputs": [],
   "source": [
    "aiclient.relex_from_file('PPI-1400','sentences_ppi.txt')"
   ]
  },
  {
   "cell_type": "markdown",
   "metadata": {},
   "source": [
    "## NER from sentence\n",
    "Pass a sentence which you would like annotate using a specific NER model.\n"
   ]
  },
  {
   "cell_type": "code",
   "execution_count": null,
   "metadata": {},
   "outputs": [],
   "source": [
    "aiclient.ner_from_sent('food', \"Pineapple and ham pizza, chicken nuggets and chips\")"
   ]
  },
  {
   "cell_type": "markdown",
   "metadata": {},
   "source": [
    "## NER from file\n",
    "Pass a file containing several sentences to be annotated with a specific NER model. The output is a _task_id_. To retrieve results you should use the .task_results ( _task_id_ ) method."
   ]
  },
  {
   "cell_type": "code",
   "execution_count": null,
   "metadata": {},
   "outputs": [],
   "source": [
    "aiclient.ner_from_file('food', 'sentences_food.txt')"
   ]
  },
  {
   "cell_type": "markdown",
   "metadata": {},
   "source": [
    "## QA from text\n",
    "Pass a question and a context where the answer might be found for a specific QA model."
   ]
  },
  {
   "cell_type": "code",
   "execution_count": null,
   "metadata": {},
   "outputs": [],
   "source": [
    "aiclient.qa_from_text(\"biobert-squad-bioasq\",\"Is Wilson's disease heritable?\",\"Wilson's disease is an inherited disorder of copper accumulation. Currently, there are 4 drugs being used as anticopper agents in Wilson's disease. Excellent therapies exist for both the prophylaxis and treatment of Wilson's disease. Because the manifestations of Wilson's disease are so protean, and the disease masquerades so well as something else, recognition of the possibility of Wilson's disease is a major problem, leading to serious underdiagnosis of the disease. These include urine copper, blood ceruloplasmin, slit lamp examination for Kayser-Fleischer rings, and liver biopsy with quantitative copper assay.\")"
   ]
  },
  {
   "cell_type": "markdown",
   "metadata": {},
   "source": [
    "## QA from json\n",
    "Pass json file containing the question and a context where an answer might be found for a specific QA model."
   ]
  },
  {
   "cell_type": "code",
   "execution_count": null,
   "metadata": {},
   "outputs": [],
   "source": [
    "aiclient.qa_from_json('biobert-squad-bioasq','q_qa.json')"
   ]
  },
  {
   "cell_type": "markdown",
   "metadata": {},
   "source": [
    "## Task status\n",
    "This method returns the task status for the provided _task_id_."
   ]
  },
  {
   "cell_type": "code",
   "execution_count": null,
   "metadata": {},
   "outputs": [],
   "source": [
    "aiclient.task_status('64678130-017b-47d5-aa35-c9c7130bd40e')"
   ]
  },
  {
   "cell_type": "markdown",
   "metadata": {},
   "source": [
    "## Task results\n",
    "This method returns the json output for the provided _task_id_."
   ]
  },
  {
   "cell_type": "code",
   "execution_count": null,
   "metadata": {},
   "outputs": [],
   "source": [
    "aiclient.task_results('69faa216-2835-437e-be4a-71a4586dd769')"
   ]
  }
 ],
 "metadata": {
  "kernelspec": {
   "display_name": "Python 3",
   "language": "python",
   "name": "python3"
  },
  "language_info": {
   "codemirror_mode": {
    "name": "ipython",
    "version": 3
   },
   "file_extension": ".py",
   "mimetype": "text/x-python",
   "name": "python",
   "nbconvert_exporter": "python",
   "pygments_lexer": "ipython3",
   "version": "3.7.4"
  }
 },
 "nbformat": 4,
 "nbformat_minor": 2
}
