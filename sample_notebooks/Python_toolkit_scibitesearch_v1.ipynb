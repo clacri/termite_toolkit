{
 "cells": [
  {
   "cell_type": "markdown",
   "metadata": {},
   "source": [
    "# Python TERMite toolkit - ScibiteSearch\n",
    "This notebook walks you through how to make calls to a ScibiteSearch API, using the functions from the toolkit."
   ]
  },
  {
   "cell_type": "markdown",
   "metadata": {},
   "source": [
    "Import the required sublibrary"
   ]
  },
  {
   "cell_type": "code",
   "execution_count": null,
   "metadata": {},
   "outputs": [],
   "source": [
    "from termite_toolkit import scibite_search"
   ]
  },
  {
   "cell_type": "markdown",
   "metadata": {},
   "source": [
    "Point to a ScibiteSearch server and then fill in the authentication details.\n",
    "\n",
    "- User: The username you use to login normally on Scibite Search\n",
    "- Password: The password for Scibite Search corresponding to this user.\n",
    "- Client id: The user for the token API. It can be found in the swagger API UI under the _Authorise_ pop-up."
   ]
  },
  {
   "cell_type": "code",
   "execution_count": null,
   "metadata": {},
   "outputs": [],
   "source": [
    "ss_home = 'https://scibitesearch-homepage.scibite.io'\n",
    "user = \"user\"\n",
    "password = \"password\"\n",
    "client_id = \"client-id\""
   ]
  },
  {
   "cell_type": "markdown",
   "metadata": {},
   "source": [
    "# Get Documents Query"
   ]
  },
  {
   "cell_type": "markdown",
   "metadata": {},
   "source": [
    "Below is an example call on how to use the toolkit to hit the Scibite Search API and retrieve the documents metadata for a given SSQL query.\n",
    "Documentation and examples on SSQL queries can be found in \n",
    "\n",
    "https://help.scibite.com/a/solutions/articles/4000175713?portalId=59454"
   ]
  },
  {
   "cell_type": "code",
   "execution_count": null,
   "metadata": {},
   "outputs": [],
   "source": [
    "s = scibite_search.SBSRequestBuilder()\n",
    "s.set_url(ss_home)\n",
    "s.set_oauth2(client_id,user,password)\n",
    "s.get_docs('dataset=\"Medline\" AND GENE$PDE5A')"
   ]
  },
  {
   "cell_type": "markdown",
   "metadata": {},
   "source": [
    "# Post Document Schema"
   ]
  },
  {
   "cell_type": "markdown",
   "metadata": {},
   "source": [
    "This script demonstrates how you can upload a new ScibiteSearch document schema using the termite toolkit. We assume you've created a \"schema.json\" file in the same folder as this script."
   ]
  },
  {
   "cell_type": "code",
   "execution_count": null,
   "metadata": {},
   "outputs": [],
   "source": [
    "import json\n",
    "\n",
    "s = scibite_search.SBSRequestBuilder()\n",
    "s.set_url(ss_home)\n",
    "s.set_oauth2(client_id,user,password)\n",
    "\n",
    "with open ('schema.json') as json_file:\n",
    "    json_body = json.load(json_file)\n",
    "\n",
    "s.document_schemas (json_body)"
   ]
  }
 ],
 "metadata": {
  "kernelspec": {
   "display_name": "Python 3",
   "language": "python",
   "name": "python3"
  },
  "language_info": {
   "codemirror_mode": {
    "name": "ipython",
    "version": 3
   },
   "file_extension": ".py",
   "mimetype": "text/x-python",
   "name": "python",
   "nbconvert_exporter": "python",
   "pygments_lexer": "ipython3",
   "version": "3.7.4"
  }
 },
 "nbformat": 4,
 "nbformat_minor": 2
}
