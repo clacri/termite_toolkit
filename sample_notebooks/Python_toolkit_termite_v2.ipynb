{
 "cells": [
  {
   "cell_type": "markdown",
   "metadata": {},
   "source": [
    "# Python TERMite toolkit - TERMite"
   ]
  },
  {
   "cell_type": "markdown",
   "metadata": {},
   "source": [
    "We provide a Python library for making calls to our NER engine, TERMite, as well as the TExpress module for defining more complex semantic patterns. The library also enables post-processing of the JSON returned from such requests. This notebook gives you the rundown on how to make a call to TERMite and some of the possible post-processing of the JSON output."
   ]
  },
  {
   "cell_type": "markdown",
   "metadata": {},
   "source": [
    "## Install or update Python toolkit¶"
   ]
  },
  {
   "cell_type": "markdown",
   "metadata": {},
   "source": [
    "The Python toolkit can simply be installed by running the following command in the terminal:\n",
    "```\n",
    "pip3 install termite_toolkit\n",
    "```\n",
    "If you already have the toolkit install make sure you have the latest version:\n",
    "```\n",
    "pip3 install termite_toolkit --upgrade\n",
    "```"
   ]
  },
  {
   "cell_type": "markdown",
   "metadata": {},
   "source": [
    "## Example call to TERMite"
   ]
  },
  {
   "cell_type": "markdown",
   "metadata": {},
   "source": [
    "Making a call to TERMite with the toolkit is easy: simply ```import termite``` from the ```termite_toolkit``` and make a call.\n",
    "\n",
    "A call is made up of:\n",
    "* the TERMite API endpoint\n",
    "* the entities you wish to use for annotation\n",
    "* a TERMite request\n",
    "* request execution\n",
    "\n",
    "Save the TERMite call in a python script and simply run ```python ExampleCall.py``` in the terminal."
   ]
  },
  {
   "cell_type": "markdown",
   "metadata": {},
   "source": [
    "This is some example text we can make a TERMite call on"
   ]
  },
  {
   "cell_type": "code",
   "execution_count": null,
   "metadata": {},
   "outputs": [],
   "source": [
    "input_text = \"The data in Table 2, Row 2 suggest that Telmisartan might be useful to prevent colon cancer (note that Clopidogrel is in both the Drug and Control arm, so we did not investigate Clopidogrel further). Recent cell-based studies reported that Telmisartan exerts anti-tumor effects by activating peroxisome proliferator-activated receptor-γ (Li et al., 2014; Pu, Zhu & Kong, 2016; Wu et al., 2016b). The algorithm presented here provides the first evidence from a randomized clinical trial indicating that Telmisartan may be viable as a repurposed prevention for colon cancer. Phylloquinone (Table 2, Row 4) is a vitamin (vitamin K1) supplement rather than a prescription drug. K vitamins + sorafenib induce apoptosis in human pancreatic cancer cell lines (Wei, Wang & Carr, 2010). A prospective cohort analysis found that individuals who increased their intake of dietary phylloquinone might have a lower risk of cancer than those who did not (Juanola-Falgarona et al., 2014). The data from the randomized trial in Table 2 suggest that vitamin K1 might actually help prevent cancer (OR = 0.27, 95% CI [0.07–0.98]). The potential cancer prevention by vitamin K1 is especially intriguing because one can get more than 1,000% daily value of vitamin K1 by simply eating one cup of cooked kale or spinach (https://www.healthaliciousness.com/articles/food-sources-of-vitamin-k.php).\""
   ]
  },
  {
   "cell_type": "markdown",
   "metadata": {},
   "source": [
    "Below is an example TERMite call. The API endpoint specified is TERMite's default endpoint. Here we just print the TERMite result to the screen. "
   ]
  },
  {
   "cell_type": "code",
   "execution_count": null,
   "metadata": {},
   "outputs": [],
   "source": [
    "from pprint import pprint\n",
    "from termite_toolkit import termite\n",
    "\n",
    "# specify termite API endpoint\n",
    "termite_home = \"http://localhost:9090/termite\"\n",
    "\n",
    "# specify entities to annotate\n",
    "entities = \"DRUG,INDICATION\"\n",
    "\n",
    "# initialise a request builder\n",
    "t = termite.TermiteRequestBuilder()\n",
    "\n",
    "# add items to your TERMite request\n",
    "t.set_url(termite_home)\n",
    "t.set_text(input_text)  # this is where we send the text to be annotated\n",
    "t.set_entities(entities)  # you must specify the vocab neams you would like to use for annotation\n",
    "t.set_subsume(True)\n",
    "t.set_input_format(\"txt\")\n",
    "t.set_output_format(\"json\")  # you can try different output formats here e.g. \"tsv\"\n",
    "t.set_reject_ambiguous(False)\n",
    "\n",
    "\n",
    "# once the query object has been built, execute the TERMite request\n",
    "termite_response = t.execute(display_request=False)\n",
    "\n",
    "pprint(termite_response)"
   ]
  },
  {
   "cell_type": "markdown",
   "metadata": {},
   "source": [
    "To understand the JSON output of TERMite results [click here](https://help.scibite.com/a/solutions/articles/179705-anatomy-of-a-termite-hit).\n",
    "\n",
    "Use ```help(termite.TermiteRequestBuilder)``` to view the documentation to see the available functions of ```TermiteRequestBuilder()``` and how they can be used to set the runtime options."
   ]
  },
  {
   "cell_type": "markdown",
   "metadata": {},
   "source": [
    "Once familiar with making a call in Python you'll be able to make calls on files and using a python dict object of TERMite options (these can be viewed on your TERMite server homepage), like the example below:\n"
   ]
  },
  {
   "cell_type": "code",
   "execution_count": null,
   "metadata": {},
   "outputs": [],
   "source": [
    "from pprint import pprint\n",
    "from termite_toolkit import termite\n",
    "import sys\n",
    "import os\n",
    "\n",
    "# specify termite API endpoint\n",
    "termite_home = \"http://localhost:9090/termite\"\n",
    "\n",
    "# input file\n",
    "\n",
    "parentDir = os.path.dirname(os.path.dirname(os.path.abspath(\"__file__\")))  # this line relatively locates the parent directory\n",
    "input_file = os.path.join(parentDir, 'sample_scripts/medline_sample.zip')  \n",
    "\n",
    "# TERMite options\n",
    "options = {\"format\": \"medline.xml\", \"output\": \"json\", \"entities\": \"DRUG,GENE,INDICATION\"}\n",
    "\n",
    "# TERMite call as JSON result\n",
    "termite_json_response = termite.annotate_files(termite_home, input_file, options)"
   ]
  },
  {
   "cell_type": "code",
   "execution_count": null,
   "metadata": {},
   "outputs": [],
   "source": [
    "termite.payload_records(termite_json_response)"
   ]
  },
  {
   "cell_type": "markdown",
   "metadata": {},
   "source": [
    "## TERMite toolkit library"
   ]
  },
  {
   "cell_type": "markdown",
   "metadata": {},
   "source": [
    "The standard JSON output is gives the most rich output, but this isn't the most human friendly.\n",
    "\n",
    "The TERMite toolkit has many built-in functions for parsing outputs. For example, ```get_entitiy_hits_from_json()``` takes a JSON TERMite response and returns a summary of the hits with additional filtering rules applied. The returned object is a python dict object indexed by entity ID, with associated frequency counts.\n",
    "\n",
    "Below is an example of post-processing of the results from our first TERMite example call; we've filtered the TERMite hits so that we're only looking at DRUG hits."
   ]
  },
  {
   "cell_type": "code",
   "execution_count": null,
   "metadata": {
    "scrolled": true
   },
   "outputs": [],
   "source": [
    "filtered_hits = termite.get_entity_hits_from_json(termite_response, 'DRUG', reject_ambig=False)\n",
    "\n",
    "pprint(filtered_hits)"
   ]
  },
  {
   "cell_type": "markdown",
   "metadata": {},
   "source": [
    "We've also added functionality to convert the json and doc.JSONx outputs into a pandas dataframe, either by individual hits or grouped by TERMite ID."
   ]
  },
  {
   "cell_type": "code",
   "execution_count": null,
   "metadata": {},
   "outputs": [],
   "source": [
    "termite.get_termite_dataframe(termite_response, reject_ambig = False).head()"
   ]
  },
  {
   "cell_type": "code",
   "execution_count": null,
   "metadata": {},
   "outputs": [],
   "source": [
    "termite.all_entities_df(termite_json_response)\n"
   ]
  },
  {
   "cell_type": "markdown",
   "metadata": {},
   "source": [
    "We've made it easier to identify which VOCabs have hits within the TERMite input, their frequencies, and the most frequent hits:"
   ]
  },
  {
   "cell_type": "code",
   "execution_count": null,
   "metadata": {},
   "outputs": [],
   "source": [
    "termite.all_entities(termite_json_response)"
   ]
  },
  {
   "cell_type": "code",
   "execution_count": null,
   "metadata": {},
   "outputs": [],
   "source": [
    "termite.entity_freq(termite_json_response)"
   ]
  },
  {
   "cell_type": "code",
   "execution_count": null,
   "metadata": {},
   "outputs": [],
   "source": [
    "termite.top_hits_df(termite_json_response, selection=5)"
   ]
  },
  {
   "cell_type": "markdown",
   "metadata": {},
   "source": [
    "We've also made it possible to get the hits from a specific set of vocabs for each document"
   ]
  },
  {
   "cell_type": "code",
   "execution_count": null,
   "metadata": {},
   "outputs": [],
   "source": [
    "filter_entity_types = ['DRUG', 'INDICATION','GENE']\n",
    "termite.termite_entity_hits_df(termite_json_response, filter_entity_types)['INDICATION']"
   ]
  }
 ],
 "metadata": {
  "kernelspec": {
   "display_name": "Python 3",
   "language": "python",
   "name": "python3"
  },
  "language_info": {
   "codemirror_mode": {
    "name": "ipython",
    "version": 3
   },
   "file_extension": ".py",
   "mimetype": "text/x-python",
   "name": "python",
   "nbconvert_exporter": "python",
   "pygments_lexer": "ipython3",
   "version": "3.7.4"
  }
 },
 "nbformat": 4,
 "nbformat_minor": 2
}
