{
 "cells": [
  {
   "cell_type": "markdown",
   "metadata": {},
   "source": [
    "# Python TERMite toolkit - DOCstore"
   ]
  },
  {
   "cell_type": "markdown",
   "metadata": {},
   "source": [
    "This notebook walks you through how to make calls to the DOCstore API\n",
    "and some of the post-processing of the JSON output."
   ]
  },
  {
   "cell_type": "markdown",
   "metadata": {},
   "source": [
    "Import the required sublibrary"
   ]
  },
  {
   "cell_type": "code",
   "execution_count": null,
   "metadata": {},
   "outputs": [],
   "source": [
    "from termite_toolkit import docstore"
   ]
  },
  {
   "cell_type": "markdown",
   "metadata": {},
   "source": [
    "Point to a docstore server and then fill in the authentication details:"
   ]
  },
  {
   "cell_type": "code",
   "execution_count": null,
   "metadata": {},
   "outputs": [],
   "source": [
    "docstore_url = 'https://example.docstore.com:port'\n",
    "user = 'user'\n",
    "pw= 'pw'"
   ]
  },
  {
   "cell_type": "markdown",
   "metadata": {},
   "source": [
    "# Document-level query\n",
    "We can make a document-level query of docstore. In this example we print the docstore id of the first hit for a query on genes HTT and EGFR"
   ]
  },
  {
   "cell_type": "code",
   "execution_count": null,
   "metadata": {},
   "outputs": [],
   "source": [
    "docs = docstore.DocStoreRequestBuilder()\n",
    "# specify docstore API endpoint and add authentication\n",
    "docs.set_url(docstore_url)\n",
    "docs.set_basic_auth(username=user, password=pw)\n",
    "# make call to DOCStore Document-level query API\n",
    "docs_json = docs.get_docs(['id:GENE$HTT', 'id:GENE$EGFR'])\n",
    "print (docs_json)\n",
    "# print unique id of the first hit\n",
    "uid = docs_json['hits'][0]['uid']\n",
    "print (uid)"
   ]
  },
  {
   "cell_type": "markdown",
   "metadata": {},
   "source": [
    "# Retrieve a specific document\n",
    "We can also use the document lookup by ID to retrieve data for a specific document based on its ID. For the purposes of this demo we use the ID from the previous query. The output of the script below are the authors of this document"
   ]
  },
  {
   "cell_type": "code",
   "execution_count": null,
   "metadata": {},
   "outputs": [],
   "source": [
    "docs = docstore.DocStoreRequestBuilder()\n",
    "# specify docstore API endpoint and add authentication if necessary\n",
    "docs.set_url(docstore_url)\n",
    "docs.set_basic_auth(username=user, password=pw)\n",
    "# make call to document lookup by ID API (using the uid of the previous query)\n",
    "docs_jon = docs.get_doc_by_id(uid)\n",
    "# print the authors of the document hit\n",
    "print (docs_json['hits'][0]['authors'])"
   ]
  },
  {
   "cell_type": "markdown",
   "metadata": {},
   "source": [
    "# Document co-occurrence dataframe\n",
    "The script below looks for the occurence of two entities in the same document. While you can retrieve the output in raw json format, the toolkit also enables to produce a dataframe from it."
   ]
  },
  {
   "cell_type": "code",
   "execution_count": null,
   "metadata": {},
   "outputs": [],
   "source": [
    "docs = docstore.DocStoreRequestBuilder()\n",
    "# specify docstore API endpoint and add authentication if necessary\n",
    "docs.set_url(docstore_url)\n",
    "docs.set_basic_auth(username=user, password=pw)\n",
    "# make call to DOCStore Document co-occurence API\n",
    "docs_json = docs.get_dcc_docs(['id:GENE$HTT', 'id:GENE$EGFR'])\n",
    "# convert json to df\n",
    "df = docstore.get_docstore_dcc_df(docs_json)\n",
    "# print titles of hits\n",
    "df"
   ]
  },
  {
   "cell_type": "markdown",
   "metadata": {},
   "source": [
    "# Sentence co-occurrence"
   ]
  },
  {
   "cell_type": "markdown",
   "metadata": {},
   "source": [
    "In this case we're looking to find documents where the two entities are mentioned in the same sentence. The output of the script below is a dataframe with one co-occurence sentence per row."
   ]
  },
  {
   "cell_type": "code",
   "execution_count": null,
   "metadata": {},
   "outputs": [],
   "source": [
    "docs = docstore.DocStoreRequestBuilder()\n",
    "# specify docstore API endpoint and add authentication if necessary\n",
    "docs.set_url(docstore_url)\n",
    "docs.set_basic_auth(username=user, password=pw)\n",
    "# make call to DOCStore sentence co-occurence API\n",
    "docs_json = docs.get_scc_docs(['id:GENE$HTT', 'id:GENE$EGFR'])\n",
    "# convert json to df\n",
    "df = docstore.get_docstore_scc_df(docs_json)\n",
    "# print doc_ids of hits\n",
    "df"
   ]
  },
  {
   "cell_type": "markdown",
   "metadata": {},
   "source": [
    "# Advanced Sentence co-occurrence"
   ]
  },
  {
   "cell_type": "code",
   "execution_count": null,
   "metadata": {},
   "outputs": [],
   "source": [
    "docs = docstore.DocStoreRequestBuilder()\n",
    "# specify docstore API endpoint and add authentication if necessary\n",
    "docs.set_url(docstore_url)\n",
    "docs.set_basic_auth(username=user, password=pw)\n",
    "\n",
    "# make call to DOCStore sentence co-occurence API\n",
    "\"\"\"\n",
    "options_dict is where we add options to fine-tune the results\n",
    "\n",
    "Options used:\n",
    "limit - limit to how many docs the sentences come from - in this case we get the n most recent\n",
    "slop - distance allowed between the entity pairs - set to 99 for same sentence.\n",
    "fields - focus the search to specific fields, e.g we are ignoring keywords here\n",
    "\n",
    "\n",
    "\"\"\"\n",
    "docs_json = docs.get_scc_docs(['id:GENE$HTT', 'type:INDICATION'], \n",
    "                options_dict={\"limit\" : 1000, \n",
    "                              \"slop\" : 10, \n",
    "                              \"fields\" : \"title,body\"\n",
    "                             })\n",
    "\n",
    "# convert json to df\n",
    "df = docstore.get_docstore_scc_df(docs_json)\n",
    "\n",
    "# printing sample result to screen. \n",
    "print(df.head())\n",
    "# write results to an output file\n",
    "df.to_csv(\"demo_output.tsv\", index=False, sep=\"\\t\", header=True)"
   ]
  },
  {
   "cell_type": "markdown",
   "metadata": {},
   "source": [
    "# Entity lookup\n",
    "There is also an API call to lookup entity synonyms. The output gives information such as entity id, type and names. Some words may have more than one synonym. In those cases the json output will include all the possible options."
   ]
  },
  {
   "cell_type": "code",
   "execution_count": null,
   "metadata": {},
   "outputs": [],
   "source": [
    "docs = docstore.DocStoreRequestBuilder()\n",
    "# specify docstore API endpoint and add authentication if necessary\n",
    "docs.set_url(docstore_url)\n",
    "docs.set_basic_auth(username=user, password=pw)\n",
    "# returns json with list of synonyms and their IDs\n",
    "synonym = 'hedgehog'\n",
    "entity_type = 'GENE'\n",
    "print(docs.entity_lookup_id(synonym,entity_type))"
   ]
  }
 ],
 "metadata": {
  "kernelspec": {
   "display_name": "Python 3",
   "language": "python",
   "name": "python3"
  },
  "language_info": {
   "codemirror_mode": {
    "name": "ipython",
    "version": 3
   },
   "file_extension": ".py",
   "mimetype": "text/x-python",
   "name": "python",
   "nbconvert_exporter": "python",
   "pygments_lexer": "ipython3",
   "version": "3.7.4"
  }
 },
 "nbformat": 4,
 "nbformat_minor": 2
}
